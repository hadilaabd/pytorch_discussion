{
 "cells": [
  {
   "cell_type": "code",
   "execution_count": 5,
   "metadata": {},
   "outputs": [],
   "source": [
    "import xml.sax\n",
    "import csv"
   ]
  },
  {
   "cell_type": "code",
   "execution_count": 6,
   "metadata": {},
   "outputs": [],
   "source": [
    "class PostHandler(xml.sax.ContentHandler):\n",
    "    def __init__(self):\n",
    "        self.CurrentData = \"\"\n",
    "        self.Id = \"\"\n",
    "        self.PostTypeId = \"\"\n",
    "        self.ParentId = \"\"\n",
    "        self.Title = \"\"\n",
    "        self.Body = \"\"\n",
    "        self.Score = \"\"\n",
    "        self.Tags = \"\"\n",
    "        self.Date = \"\"\n",
    "        self.ViewCount = \"\"\n",
    "        self.FavoriteCount = \"\"\n",
    "        self.post_count = 0\n",
    "        self.csv_file = open('../data/sso_posts.csv', 'w', newline='', encoding='utf-8')\n",
    "        self.writer = csv.writer(self.csv_file)\n",
    "        self.writer.writerow(['Id', 'PostTypeId', 'ParentId', 'Title', 'Body', 'Score', 'Tags', 'ViewCount', 'FavoriteCount'])\n",
    "\n",
    "    def startElement(self, tag, attributes):\n",
    "        self.CurrentData = tag\n",
    "        if tag == \"row\":\n",
    "            if self.post_count < 760000000000:\n",
    "                self.Id = attributes[\"Id\"]\n",
    "                self.PostTypeId = attributes[\"PostTypeId\"]\n",
    "                self.ParentId = attributes.get(\"ParentId\", \"\")\n",
    "                self.Title = attributes.get(\"Title\", \"\")\n",
    "                self.Body = attributes.get(\"Body\", \"\")\n",
    "                self.Score = attributes[\"Score\"]\n",
    "                self.Tags = attributes.get(\"Tags\", \"\")\n",
    "                self.Date = attributes.get(\"Date\", \"\")\n",
    "                self.ViewCount = attributes.get(\"ViewCount\", \"\")\n",
    "                self.FavoriteCount = attributes.get(\"FavoriteCount\", \"\")\n",
    "                if self.Title != \"\" and self.Tags != \"\":\n",
    "                    self.writer.writerow([self.Id, self.PostTypeId, self.ParentId, self.Title, self.Body, self.Score, self.Tags, self.ViewCount, self.FavoriteCount])\n",
    "                    self.post_count += 1\n",
    "\n",
    "    def endElement(self, tag):\n",
    "        self.CurrentData = \"\"\n",
    "\n",
    "    def characters(self, content):\n",
    "        pass\n",
    "\n",
    "    def xml_reader(file_path):\n",
    "        xml_file = open(file_path, \"r\", encoding=\"utf-8\")\n",
    "        xml.sax.parse(xml_file, PostHandler())\n",
    "        xml_file.close()\n"
   ]
  },
  {
   "cell_type": "code",
   "execution_count": 7,
   "metadata": {},
   "outputs": [],
   "source": [
    "\n",
    "if __name__ == \"__main__\":\n",
    "    PostHandler.xml_reader(\"../data/Posts.xml\")"
   ]
  }
 ],
 "metadata": {
  "kernelspec": {
   "display_name": "Python 3",
   "language": "python",
   "name": "python3"
  },
  "language_info": {
   "codemirror_mode": {
    "name": "ipython",
    "version": 3
   },
   "file_extension": ".py",
   "mimetype": "text/x-python",
   "name": "python",
   "nbconvert_exporter": "python",
   "pygments_lexer": "ipython3",
   "version": "3.10.4"
  },
  "orig_nbformat": 4
 },
 "nbformat": 4,
 "nbformat_minor": 2
}

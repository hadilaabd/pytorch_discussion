{
 "cells": [
  {
   "cell_type": "code",
   "execution_count": 216,
   "metadata": {},
   "outputs": [],
   "source": [
    "import re\n",
    "import pandas as pd\n",
    "import nltk\n",
    "from nltk.corpus import stopwords\n",
    "from bs4 import BeautifulSoup"
   ]
  },
  {
   "cell_type": "code",
   "execution_count": 217,
   "metadata": {},
   "outputs": [],
   "source": [
    "# Load the original Stack Overflow posts\n",
    "data = pd.read_csv('../data/pytorch_posts.csv')"
   ]
  },
  {
   "cell_type": "code",
   "execution_count": 218,
   "metadata": {},
   "outputs": [
    {
     "name": "stderr",
     "output_type": "stream",
     "text": [
      "[nltk_data] Downloading package stopwords to\n",
      "[nltk_data]     C:\\Users\\wgo027\\AppData\\Roaming\\nltk_data...\n",
      "[nltk_data]   Package stopwords is already up-to-date!\n"
     ]
    }
   ],
   "source": [
    "# Initialize NLTK stopwords\n",
    "nltk.download('stopwords')\n",
    "stopwords = set(stopwords.words('english'))"
   ]
  },
  {
   "cell_type": "code",
   "execution_count": 219,
   "metadata": {},
   "outputs": [],
   "source": [
    "# Function to remove code snippets from text\n",
    "def remove_code_snippets(text):\n",
    "    cleaned_text = re.sub(r'(?s)<code>.*?</code>', '', text)\n",
    "    return cleaned_text"
   ]
  },
  {
   "cell_type": "code",
   "execution_count": 220,
   "metadata": {},
   "outputs": [],
   "source": [
    "# Function to remove non-alphanumeric characters from text\n",
    "def remove_non_alphanumeric(text):\n",
    "    cleaned_text = re.sub(r'[^a-zA-Z0-9\\s]', ' ', text)\n",
    "    return cleaned_text"
   ]
  },
  {
   "cell_type": "code",
   "execution_count": 221,
   "metadata": {},
   "outputs": [],
   "source": [
    "# Function to remove hyperlinks from text\n",
    "def remove_hyperlinks(text):\n",
    "    cleaned_text = re.sub(r'http\\S+|www.\\S+', '', text)\n",
    "    return cleaned_text"
   ]
  },
  {
   "cell_type": "code",
   "execution_count": 222,
   "metadata": {},
   "outputs": [],
   "source": [
    "# Function to remove HTML tags from text\n",
    "def remove_html_tags(text):\n",
    "     # Remove HTML tags using BeautifulSoup\n",
    "    soup = BeautifulSoup(text, 'html.parser')\n",
    "    \n",
    "    # Remove HTML tags\n",
    "    cleaned_text = re.sub(r'<[^>]+>', '', str(soup))\n",
    "\n",
    "\n",
    "    return cleaned_text"
   ]
  },
  {
   "cell_type": "code",
   "execution_count": 223,
   "metadata": {},
   "outputs": [],
   "source": [
    "# Function to remove punctuation from text\n",
    "def remove_punctuation(text):\n",
    "    cleaned_text = re.sub(r'[^\\w\\s]', ' ', text)\n",
    "    return cleaned_text"
   ]
  },
  {
   "cell_type": "code",
   "execution_count": 224,
   "metadata": {},
   "outputs": [],
   "source": [
    "def remove_extra_spaces(text):\n",
    "    # Remove extra whitespaces and newline characters\n",
    "    cleaned_text = re.sub(r'\\s+', ' ', text.strip())\n",
    "    return cleaned_text"
   ]
  },
  {
   "cell_type": "code",
   "execution_count": 225,
   "metadata": {},
   "outputs": [],
   "source": [
    "def extract_tags(tag_string):\n",
    "    # Remove angle brackets\n",
    "    tag_string = re.sub(r'><', ' ', tag_string)\n",
    "    tag_string = re.sub(r'>', '', tag_string)\n",
    "    tag_string = re.sub(r'<', '', tag_string)\n",
    "    tag_string = re.sub(r'\\s+', ' ', tag_string)\n",
    "    \n",
    "    return tag_string"
   ]
  },
  {
   "cell_type": "code",
   "execution_count": 226,
   "metadata": {},
   "outputs": [
    {
     "name": "stderr",
     "output_type": "stream",
     "text": [
      "C:\\Programs\\Anaconda3\\TEMP\\ipykernel_17344\\2552347122.py:4: MarkupResemblesLocatorWarning: The input looks more like a filename than markup. You may want to open this file and pass the filehandle into Beautiful Soup.\n",
      "  soup = BeautifulSoup(text, 'html.parser')\n"
     ]
    }
   ],
   "source": [
    "# Apply preprocessing steps to each field\n",
    "fields = ['Title', 'Body']\n",
    "for field in fields:\n",
    "    cleaned_fields = []\n",
    "    for post in data[field]:\n",
    "        post = str(post)  # Convert field value to string\n",
    "        post = remove_hyperlinks(post)\n",
    "        post = remove_code_snippets(post)\n",
    "        post = remove_html_tags(post)\n",
    "        post = remove_non_alphanumeric(post)\n",
    "        post = remove_extra_spaces(post)\n",
    "        cleaned_fields.append(post)\n",
    "    data[field] = cleaned_fields\n",
    "\n",
    "splitTags = []\n",
    "for post in data['Tags']:\n",
    "    post = str(post)\n",
    "    post = extract_tags(post)\n",
    "    post = remove_extra_spaces(post)\n",
    "    splitTags.append(post)\n",
    "data['Tags'] = splitTags"
   ]
  },
  {
   "cell_type": "code",
   "execution_count": 227,
   "metadata": {},
   "outputs": [],
   "source": [
    "# Save the cleaned posts to a new file\n",
    "data.to_csv('../data/cleaned_pytorch_posts.csv', index=False)"
   ]
  }
 ],
 "metadata": {
  "kernelspec": {
   "display_name": "Python 3",
   "language": "python",
   "name": "python3"
  },
  "language_info": {
   "codemirror_mode": {
    "name": "ipython",
    "version": 3
   },
   "file_extension": ".py",
   "mimetype": "text/x-python",
   "name": "python",
   "nbconvert_exporter": "python",
   "pygments_lexer": "ipython3",
   "version": "3.10.4"
  },
  "orig_nbformat": 4
 },
 "nbformat": 4,
 "nbformat_minor": 2
}
